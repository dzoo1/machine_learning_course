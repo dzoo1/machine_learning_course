{
 "cells": [
  {
   "cell_type": "markdown",
   "metadata": {},
   "source": [
    "\n",
    "# Introduction to Machine Learning\n",
    "### Tom Galligan (thomas.galligan@bnc.ox.ac.uk)\n",
    "\n"
   ]
  },
  {
   "cell_type": "markdown",
   "metadata": {},
   "source": [
    "Welcome to the Oxford University CodeSoc Introduction to Machine Learning course! By the end of this course, you'll have been exposed to the central ideas of machine learning (ML), and will have worked with some of its most popular and powerful algorithms. \n"
   ]
  },
  {
   "cell_type": "code",
   "execution_count": null,
   "metadata": {
    "collapsed": true
   },
   "outputs": [],
   "source": [
    "The first thing you need to do is download the relevant software packages. \n",
    "In this course, you'll need Python 3.5 with numpy, pandas, matplotlib and sci-kitlearn (you might need to downgrade if you have a more recent version)\n",
    "\n",
    "If you're new to Python, I recommend installing Anaconda (https://docs.anaconda.com/anaconda/install/). This has all the main Python packages you'll need. \n",
    "\n",
    "You'll also need a Neural Network package called Keras (https://keras.io/#installation) and for the backend engine we'll be using Tensorflow (https://www.tensorflow.org/install/).\n",
    "\n",
    "Please have all of these packages installed before the first class to make things run as smoothly as possible.\n",
    "\n",
    "Prerequisites for the course:\n",
    "* Basic familiarity with Python will help a lot, but complete beginners should still find it enjoyable!\n",
    "* Some knowledge of basic maths and statistics (mean, variance, notion of a function) will help a lot. \n",
    "* The deeper theory won't be covered in the classes, but if you want to look into it you'll find it easier if you're comfortable with things like partial derivatives, n-dimensional Gaussians, linear algebra, metrics, and the concept of $\\underset{\\vec{p} \\in \\mathbb{R}^n}{\\text{argmin}}\\hspace{2mm} f : \\mathbb{R}^n \\rightarrow \\mathbb{R}$.\n",
    "\n"
   ]
  }
 ],
 "metadata": {
  "kernelspec": {
   "display_name": "Python 3",
   "language": "python",
   "name": "python3"
  }
 },
 "nbformat": 4,
 "nbformat_minor": 2
}
