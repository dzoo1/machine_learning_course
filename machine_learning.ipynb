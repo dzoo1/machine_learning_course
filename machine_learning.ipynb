{
 "cells": [
  {
   "cell_type": "markdown",
   "metadata": {},
   "source": [
    "\n",
    "# Introduction to Machine Learning\n",
    "### Tom Galligan (thomas.galligan@bnc.ox.ac.uk)\n",
    "\n"
   ]
  },
  {
   "cell_type": "markdown",
   "metadata": {},
   "source": [
    "Welcome to the Oxford University CodeSoc Introduction to Machine Learning course! By the end of this course, you'll have been exposed to the central ideas of machine learning (ML), and will have worked with some of its most popular and powerful algorithms. \n"
   ]
  },
  {
   "cell_type": "markdown",
   "metadata": {},
   "source": [
    "The first thing we need to do is get you to download the relevant software packages. \n",
    "In this course, you'll need:\n",
    "* Python 3.5 with numpy, pandas, sklearn (you might need to downgrade if you have a more recent version)\n",
    "\n",
    "If you're new to Python, I recommend installing Anaconda (https://docs.anaconda.com/anaconda/install/). This has all the main python packages you'll need. \n",
    "\n",
    "You'll also need a Neural Network package called Keras (https://keras.io/#installation) and for the backend engine we'll be using tensorflow (https://www.tensorflow.org/install/).\n",
    "\n",
    "Please have these packages installed before the first class to make things run as smoothly as possible.\n",
    "\n",
    "\n",
    "\n"
   ]
  },
  {
   "cell_type": "code",
   "execution_count": null,
   "metadata": {},
   "outputs": [],
   "source": []
  }
 ],
 "metadata": {
  "kernelspec": {
   "display_name": "Python 3",
   "language": "python",
   "name": "python3"
  }
 },
 "nbformat": 4,
 "nbformat_minor": 2
}
